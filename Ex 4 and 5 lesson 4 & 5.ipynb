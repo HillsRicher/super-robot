{
 "cells": [
  {
   "cell_type": "code",
   "execution_count": 1,
   "id": "6332043d",
   "metadata": {},
   "outputs": [
    {
     "name": "stdout",
     "output_type": "stream",
     "text": [
      "python rules!\n"
     ]
    }
   ],
   "source": [
    "#write an expression using any of the string formatting methods\n",
    "#we have learned (except f-strings, see note below) to return the phrase \"python rules!\"\n",
    "print(\"{}!\".format(\"python rules\"))"
   ]
  },
  {
   "cell_type": "code",
   "execution_count": 2,
   "id": "c761238e",
   "metadata": {},
   "outputs": [
    {
     "name": "stdout",
     "output_type": "stream",
     "text": [
      "['me', 'solo']\n"
     ]
    }
   ],
   "source": [
    "name = ['me','solo','boy']\n",
    "#what’s the result of name.pop()\n",
    "name.pop() # if not specified it removes the last item in the list\n",
    "print(name)"
   ]
  },
  {
   "cell_type": "code",
   "execution_count": 4,
   "id": "80dbb14a",
   "metadata": {},
   "outputs": [
    {
     "name": "stdout",
     "output_type": "stream",
     "text": [
      "boy\n"
     ]
    }
   ],
   "source": [
    "#select the last item from name\n",
    "nam = ['me','solo','boy']\n",
    "print(nam[2])"
   ]
  },
  {
   "cell_type": "code",
   "execution_count": 5,
   "id": "9e7d5677",
   "metadata": {},
   "outputs": [
    {
     "name": "stdout",
     "output_type": "stream",
     "text": [
      "3\n"
     ]
    }
   ],
   "source": [
    "#Use a method to give me the number of items in list\n",
    "print(len(nam))"
   ]
  },
  {
   "cell_type": "code",
   "execution_count": 6,
   "id": "4e6a0af1",
   "metadata": {},
   "outputs": [
    {
     "name": "stdout",
     "output_type": "stream",
     "text": [
      "['me', 'solo', 'boy', 6]\n"
     ]
    }
   ],
   "source": [
    "#Add 6 to the list\n",
    "nam.append(6)\n",
    "print(nam)"
   ]
  },
  {
   "cell_type": "code",
   "execution_count": 7,
   "id": "159257c9",
   "metadata": {},
   "outputs": [
    {
     "name": "stdout",
     "output_type": "stream",
     "text": [
      "['first', 'me', 'solo', 'boy', 6]\n"
     ]
    }
   ],
   "source": [
    "#Add ‘first” at the beginning of the list\n",
    "nam.insert(0,\"first\")\n",
    "print(nam)"
   ]
  },
  {
   "cell_type": "code",
   "execution_count": 8,
   "id": "5b38c44b",
   "metadata": {},
   "outputs": [
    {
     "name": "stdout",
     "output_type": "stream",
     "text": [
      "[0, 1, 2, 4, 6, 7, 9, 10]\n"
     ]
    }
   ],
   "source": [
    "nums = [10,4,6,2,7,1,9,0]\n",
    "#Sort the items and show results\n",
    "nums.sort()\n",
    "print(nums)"
   ]
  },
  {
   "cell_type": "code",
   "execution_count": 10,
   "id": "3688ee58",
   "metadata": {},
   "outputs": [
    {
     "name": "stdout",
     "output_type": "stream",
     "text": [
      "[0, 12, [2, 6, 'me', 7], 4, 10]\n"
     ]
    }
   ],
   "source": [
    "#Reverse the items and show results\n",
    "My_list =[10,4,[2,6,'me',7],12,0]\n",
    "My_list.reverse()\n",
    "print(My_list)"
   ]
  },
  {
   "cell_type": "code",
   "execution_count": 11,
   "id": "2d1a8d3a",
   "metadata": {},
   "outputs": [
    {
     "name": "stdout",
     "output_type": "stream",
     "text": [
      "0\n"
     ]
    }
   ],
   "source": [
    "#Use index to select 0 from the list\n",
    "result = My_list.index(0)\n",
    "print(result)"
   ]
  },
  {
   "cell_type": "code",
   "execution_count": 13,
   "id": "69c92721",
   "metadata": {},
   "outputs": [
    {
     "name": "stdout",
     "output_type": "stream",
     "text": [
      "me\n"
     ]
    }
   ],
   "source": [
    "#Use index to select “me” from the list: Hint [][]\n",
    "print(My_list[2][2])"
   ]
  },
  {
   "cell_type": "code",
   "execution_count": null,
   "id": "c3dc1b52",
   "metadata": {},
   "outputs": [],
   "source": []
  }
 ],
 "metadata": {
  "kernelspec": {
   "display_name": "Python 3 (ipykernel)",
   "language": "python",
   "name": "python3"
  },
  "language_info": {
   "codemirror_mode": {
    "name": "ipython",
    "version": 3
   },
   "file_extension": ".py",
   "mimetype": "text/x-python",
   "name": "python",
   "nbconvert_exporter": "python",
   "pygments_lexer": "ipython3",
   "version": "3.9.12"
  }
 },
 "nbformat": 4,
 "nbformat_minor": 5
}
