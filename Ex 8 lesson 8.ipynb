{
 "cells": [
  {
   "cell_type": "code",
   "execution_count": 1,
   "id": "a17becc3",
   "metadata": {},
   "outputs": [
    {
     "data": {
      "text/plain": [
       "{1, 3, 4, 6, 10}"
      ]
     },
     "execution_count": 1,
     "metadata": {},
     "output_type": "execute_result"
    }
   ],
   "source": [
    "#How do you add an element to a set\n",
    "set1 = {1,4,3,6}\n",
    "set1.add(10)\n",
    "set1"
   ]
  },
  {
   "cell_type": "code",
   "execution_count": 2,
   "id": "0773fe40",
   "metadata": {},
   "outputs": [
    {
     "data": {
      "text/plain": [
       "{1, 3, 4, 6}"
      ]
     },
     "execution_count": 2,
     "metadata": {},
     "output_type": "execute_result"
    }
   ],
   "source": [
    "#How does a set differ from a List\n",
    "set2 = {1,4,3,6,6} #sets don't allow duplicates,they are unordered and unchangeble\n",
    "list1 = [1,4,4,5,6]\n",
    "set2"
   ]
  },
  {
   "cell_type": "code",
   "execution_count": 3,
   "id": "8cb18ca0",
   "metadata": {},
   "outputs": [
    {
     "name": "stdout",
     "output_type": "stream",
     "text": [
      "[1, 4, 4, 5, 6]\n"
     ]
    }
   ],
   "source": [
    "print(list1)# lists allow duplicates,they are orderd and changeable"
   ]
  },
  {
   "cell_type": "code",
   "execution_count": 4,
   "id": "54df09ad",
   "metadata": {},
   "outputs": [
    {
     "data": {
      "text/plain": [
       "{1, 2, 4}"
      ]
     },
     "execution_count": 4,
     "metadata": {},
     "output_type": "execute_result"
    }
   ],
   "source": [
    "#What is the result of set[1,2,1,4,2,4,1]\n",
    "my_list = [1,2,1,4,2,4,1]\n",
    "result =set(my_list)\n",
    "result"
   ]
  },
  {
   "cell_type": "code",
   "execution_count": 5,
   "id": "f49a907c",
   "metadata": {},
   "outputs": [
    {
     "data": {
      "text/plain": [
       "3"
      ]
     },
     "execution_count": 5,
     "metadata": {},
     "output_type": "execute_result"
    }
   ],
   "source": [
    "len(result)"
   ]
  },
  {
   "cell_type": "code",
   "execution_count": 6,
   "id": "86f064d8",
   "metadata": {},
   "outputs": [
    {
     "data": {
      "text/plain": [
       "{10, 20, 30, 40, 50, 60, 70}"
      ]
     },
     "execution_count": 6,
     "metadata": {},
     "output_type": "execute_result"
    }
   ],
   "source": [
    "#Given:\n",
    "#Use the union() method of a set.\n",
    "set3 = {10, 20, 30, 40, 50} \n",
    "set4 = {30, 40, 50, 60, 70}\n",
    "result = set3.union(set4)\n",
    "result\n"
   ]
  },
  {
   "cell_type": "code",
   "execution_count": 8,
   "id": "cfa37eb6",
   "metadata": {},
   "outputs": [
    {
     "data": {
      "text/plain": [
       "{10, 20, 60, 70}"
      ]
     },
     "execution_count": 8,
     "metadata": {},
     "output_type": "execute_result"
    }
   ],
   "source": [
    "#Use the symmetric_difference() method of a set.\n",
    "set_a = {10, 20, 30, 40, 50} \n",
    "set_b = {30, 40, 50, 60, 70} \n",
    "result = set_a.symmetric_difference(set_b)\n",
    "result"
   ]
  },
  {
   "cell_type": "code",
   "execution_count": 13,
   "id": "d2a7c545",
   "metadata": {},
   "outputs": [
    {
     "name": "stdout",
     "output_type": "stream",
     "text": [
      "{20, 70, 10, 60}\n"
     ]
    }
   ],
   "source": [
    "set_d = {10, 20, 30, 40, 50} \n",
    "set_c = {30, 40, 50, 60, 70}\n",
    "set_d.symmetric_difference_update(set_c)\n",
    "print(set_d)"
   ]
  },
  {
   "cell_type": "code",
   "execution_count": 14,
   "id": "bd7d5dde",
   "metadata": {},
   "outputs": [
    {
     "name": "stdout",
     "output_type": "stream",
     "text": [
      "{40, 50, 30}\n"
     ]
    }
   ],
   "source": [
    "#Use the intersection_update() method of a set.\n",
    "set6 = {10, 20, 30, 40, 50}\n",
    "set5 = {30, 40, 50, 60, 70} \n",
    "set6.intersection_update(set5)\n",
    "print(set6)"
   ]
  },
  {
   "cell_type": "code",
   "execution_count": null,
   "id": "324392d6",
   "metadata": {},
   "outputs": [],
   "source": []
  }
 ],
 "metadata": {
  "kernelspec": {
   "display_name": "Python 3 (ipykernel)",
   "language": "python",
   "name": "python3"
  },
  "language_info": {
   "codemirror_mode": {
    "name": "ipython",
    "version": 3
   },
   "file_extension": ".py",
   "mimetype": "text/x-python",
   "name": "python",
   "nbconvert_exporter": "python",
   "pygments_lexer": "ipython3",
   "version": "3.9.12"
  }
 },
 "nbformat": 4,
 "nbformat_minor": 5
}
