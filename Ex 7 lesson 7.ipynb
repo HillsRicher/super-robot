{
 "cells": [
  {
   "cell_type": "code",
   "execution_count": 1,
   "id": "3654798f",
   "metadata": {},
   "outputs": [
    {
     "name": "stdout",
     "output_type": "stream",
     "text": [
      "(50, 40, 30, 20, 10)\n"
     ]
    }
   ],
   "source": [
    "#Reverse the tuple Given:tuple\n",
    "#Expected output:(50, 40, 30, 20, 10)\n",
    "tuple1 = (10, 20, 30, 40, 50) \n",
    "def reverse(tuple1):\n",
    "    new = tuple1[::-1]\n",
    "    return new\n",
    "print(reverse(tuple1))"
   ]
  },
  {
   "cell_type": "code",
   "execution_count": 2,
   "id": "d2e1795f",
   "metadata": {},
   "outputs": [
    {
     "name": "stdout",
     "output_type": "stream",
     "text": [
      "(50,)\n"
     ]
    }
   ],
   "source": [
    "#Create a tuple with single item 50\n",
    "tup = (50,)\n",
    "print(tup)"
   ]
  },
  {
   "cell_type": "code",
   "execution_count": 3,
   "id": "870b13f3",
   "metadata": {},
   "outputs": [
    {
     "data": {
      "text/plain": [
       "2"
      ]
     },
     "execution_count": 3,
     "metadata": {},
     "output_type": "execute_result"
    }
   ],
   "source": [
    "#Count the number of occurrences of item 50 from a tuple Given\n",
    "tuple2 = (50, 10, 60, 70, 50)\n",
    "tuple2.count(50)\n"
   ]
  },
  {
   "cell_type": "code",
   "execution_count": 4,
   "id": "252d7ce8",
   "metadata": {},
   "outputs": [
    {
     "name": "stdout",
     "output_type": "stream",
     "text": [
      "True\n"
     ]
    }
   ],
   "source": [
    "#Check if all items in the tuple are the same\n",
    "tuple3 = (45, 45, 45, 45)\n",
    "result = all(tuple3)\n",
    "print(result)"
   ]
  },
  {
   "cell_type": "code",
   "execution_count": null,
   "id": "4872ce9a",
   "metadata": {},
   "outputs": [],
   "source": []
  }
 ],
 "metadata": {
  "kernelspec": {
   "display_name": "Python 3 (ipykernel)",
   "language": "python",
   "name": "python3"
  },
  "language_info": {
   "codemirror_mode": {
    "name": "ipython",
    "version": 3
   },
   "file_extension": ".py",
   "mimetype": "text/x-python",
   "name": "python",
   "nbconvert_exporter": "python",
   "pygments_lexer": "ipython3",
   "version": "3.9.12"
  }
 },
 "nbformat": 4,
 "nbformat_minor": 5
}
