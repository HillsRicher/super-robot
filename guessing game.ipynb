{
 "cells": [
  {
   "cell_type": "code",
   "execution_count": null,
   "id": "4816972f",
   "metadata": {},
   "outputs": [],
   "source": [
    "secret_word = \"knowledge\"\n",
    "guess = \"\"\n",
    "guess_count = 0\n",
    "guess_limit = 4\n",
    "out_of_guesses = False\n",
    "while guess!= secret_word and not(out_of_guesses):\n",
    "    if guess_count < guess_limit:\n",
    "        guess = input(\"Enter guess:\")\n",
    "        guess_count += 1\n",
    "    else:\n",
    "         out_of_guesses = True\n",
    "if out_of_guesses:\n",
    "    print(\"Out of guesses, YOU LOSE\")\n",
    "else:\n",
    "    print(\"YOU WIN\")"
   ]
  },
  {
   "cell_type": "code",
   "execution_count": null,
   "id": "32275503",
   "metadata": {},
   "outputs": [],
   "source": []
  }
 ],
 "metadata": {
  "kernelspec": {
   "display_name": "Python 3 (ipykernel)",
   "language": "python",
   "name": "python3"
  },
  "language_info": {
   "codemirror_mode": {
    "name": "ipython",
    "version": 3
   },
   "file_extension": ".py",
   "mimetype": "text/x-python",
   "name": "python",
   "nbconvert_exporter": "python",
   "pygments_lexer": "ipython3",
   "version": "3.9.12"
  }
 },
 "nbformat": 4,
 "nbformat_minor": 5
}
