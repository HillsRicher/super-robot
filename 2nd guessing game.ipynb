{
 "cells": [
  {
   "cell_type": "code",
   "execution_count": 1,
   "id": "957695e7",
   "metadata": {},
   "outputs": [
    {
     "name": "stdout",
     "output_type": "stream",
     "text": [
      "Guess the randomly generated number from 1 to 100\n",
      "Enter the guessed number: 50\n",
      "-> Your number is greater than the random number\n",
      "Enter the guessed number: 40\n",
      "-> Your number is greater than the random number\n",
      "Enter the guessed number: 25\n",
      "-> Your number is less than the random number\n",
      "Enter the guessed number: 30\n",
      "-> Your number is less than the random number\n",
      "Enter the guessed number: 35\n",
      "-> Your number is greater than the random number\n",
      "Enter the guessed number: 34\n",
      "-> Your number is greater than the random number\n",
      "Enter the guessed number: 33\n",
      "-> Your number is greater than the random number\n",
      "Enter the guessed number: 31\n",
      "-> Congragulations! You got it in 8 steps!\n"
     ]
    }
   ],
   "source": [
    "import random\n",
    "\n",
    "\n",
    "class NumberGuessingGame:\n",
    "\n",
    "    def __init__(self):\n",
    "        ## define the range\n",
    "        self.LOWER = 1\n",
    "        self.HIGHER = 100\n",
    "                                 # method to generate the random number\n",
    "    def get_random_number(self):\n",
    "        return random.randint(self.LOWER, self.HIGHER)\n",
    "                                 # game start method\n",
    "    def start(self):\n",
    "                                 # generating the random number\n",
    "        random_number = self.get_random_number()\n",
    "\n",
    "        print(\n",
    "            f\"Guess the randomly generated number from {self.LOWER} to {self.HIGHER}\")\n",
    "\n",
    "                                 # heart of the game\n",
    "        chances = 0\n",
    "        while True:\n",
    "            user_number = int(input(\"Enter the guessed number: \"))\n",
    "            if user_number == random_number:\n",
    "                print(\n",
    "                    f\"-> Congragulations! You got it in {chances + 1} step{'s' if chances > 1 else ''}!\")\n",
    "                break\n",
    "            elif user_number < random_number:\n",
    "                print(\"-> Your number is less than the random number\")\n",
    "            else:\n",
    "                print(\"-> Your number is greater than the random number\")\n",
    "            chances += 1\n",
    "\n",
    "# instantiating and starting the game\n",
    "numberGuessingGame = NumberGuessingGame()\n",
    "numberGuessingGame.start()\n"
   ]
  },
  {
   "cell_type": "code",
   "execution_count": null,
   "id": "6c46cbd2",
   "metadata": {},
   "outputs": [],
   "source": []
  }
 ],
 "metadata": {
  "kernelspec": {
   "display_name": "Python 3 (ipykernel)",
   "language": "python",
   "name": "python3"
  },
  "language_info": {
   "codemirror_mode": {
    "name": "ipython",
    "version": 3
   },
   "file_extension": ".py",
   "mimetype": "text/x-python",
   "name": "python",
   "nbconvert_exporter": "python",
   "pygments_lexer": "ipython3",
   "version": "3.9.12"
  }
 },
 "nbformat": 4,
 "nbformat_minor": 5
}
