{
 "cells": [
  {
   "cell_type": "code",
   "execution_count": 8,
   "id": "c3f5078d",
   "metadata": {},
   "outputs": [
    {
     "name": "stdout",
     "output_type": "stream",
     "text": [
      "Rahul\n",
      "886012\n",
      "My name is Rahul\n",
      "idnumber:886012\n",
      "post:intern\n"
     ]
    }
   ],
   "source": [
    "#parent class\n",
    "class person(object):\n",
    "    def __init__(self,name,idnumber):\n",
    "        self.name = name\n",
    "        self.idnumber = idnumber\n",
    "    \n",
    "    def display(self):\n",
    "        print(self.name)\n",
    "        print(self.idnumber)\n",
    "        \n",
    "    def details(self):\n",
    "        print(\"My name is {}\".format(self.name))\n",
    "        print(\"idnumber:{}\".format(self.idnumber))\n",
    "#childclass    \n",
    "class Employee(person):\n",
    "    def __init__(self,name,idnumber,salary,post):\n",
    "        self.salary = salary\n",
    "        self.post = post\n",
    "    #invoking the __init__ of the parent class \n",
    "        person.__init__(self,name,idnumber)\n",
    "    def details(self):\n",
    "        print(\"My name is {}\".format(self.name))\n",
    "        print(\"idnumber:{}\".format(self.idnumber))\n",
    "        print(\"post:{}\".format(self.post))\n",
    "        \n",
    " #  creation of an object variable or an instance      \n",
    "a = Employee('Rahul', 886012, 200000, \"intern\")\n",
    "\n",
    "#calling a function of the class Person using its instance\n",
    "a.display()\n",
    "a.details()"
   ]
  },
  {
   "cell_type": "code",
   "execution_count": null,
   "id": "3eb48c04",
   "metadata": {},
   "outputs": [],
   "source": []
  },
  {
   "cell_type": "code",
   "execution_count": null,
   "id": "bfbee0eb",
   "metadata": {},
   "outputs": [],
   "source": []
  }
 ],
 "metadata": {
  "kernelspec": {
   "display_name": "Python 3 (ipykernel)",
   "language": "python",
   "name": "python3"
  },
  "language_info": {
   "codemirror_mode": {
    "name": "ipython",
    "version": 3
   },
   "file_extension": ".py",
   "mimetype": "text/x-python",
   "name": "python",
   "nbconvert_exporter": "python",
   "pygments_lexer": "ipython3",
   "version": "3.9.12"
  }
 },
 "nbformat": 4,
 "nbformat_minor": 5
}
