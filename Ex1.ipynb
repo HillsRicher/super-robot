{
 "cells": [
  {
   "cell_type": "code",
   "execution_count": 1,
   "id": "e286ef9d",
   "metadata": {},
   "outputs": [
    {
     "name": "stdout",
     "output_type": "stream",
     "text": [
      "4\n"
     ]
    }
   ],
   "source": [
    "#Fill the print function so it prints girls_playing\n",
    "girls_playing = 3\n",
    "girls_playing = girls_playing + 1\n",
    "print(girls_playing)"
   ]
  },
  {
   "cell_type": "code",
   "execution_count": 4,
   "id": "a03783ec",
   "metadata": {},
   "outputs": [
    {
     "name": "stdout",
     "output_type": "stream",
     "text": [
      "They are  4 girls playing today.\n"
     ]
    }
   ],
   "source": [
    "#Assign a number to the variable: girls_playing\n",
    "girls_playing = 4\n",
    "print(\"They are \",girls_playing, \"girls playing today.\")"
   ]
  },
  {
   "cell_type": "code",
   "execution_count": 5,
   "id": "832c4201",
   "metadata": {},
   "outputs": [
    {
     "name": "stdout",
     "output_type": "stream",
     "text": [
      "True\n"
     ]
    }
   ],
   "source": [
    "#Assign Boolean to the variable below then print it.\n",
    "alive= \"alive\"\n",
    "alive = alive.startswith(\"a\")\n",
    "print(alive)"
   ]
  },
  {
   "cell_type": "code",
   "execution_count": null,
   "id": "f29e03e0",
   "metadata": {},
   "outputs": [],
   "source": []
  }
 ],
 "metadata": {
  "kernelspec": {
   "display_name": "Python 3 (ipykernel)",
   "language": "python",
   "name": "python3"
  },
  "language_info": {
   "codemirror_mode": {
    "name": "ipython",
    "version": 3
   },
   "file_extension": ".py",
   "mimetype": "text/x-python",
   "name": "python",
   "nbconvert_exporter": "python",
   "pygments_lexer": "ipython3",
   "version": "3.9.12"
  }
 },
 "nbformat": 4,
 "nbformat_minor": 5
}
