{
 "cells": [
  {
   "cell_type": "code",
   "execution_count": 1,
   "id": "b98ed8e9",
   "metadata": {},
   "outputs": [
    {
     "name": "stdout",
     "output_type": "stream",
     "text": [
      "['children', 'men', 'women', 'men']\n"
     ]
    }
   ],
   "source": [
    "#Give me your understanding of lists and dictionaries\n",
    "#lists are used to store multiple items in a single variable and they allow duplicates.\n",
    "mylist = [\"children\",\"men\",\"women\",\"men\"]\n",
    "print(mylist)#duplicates are allowed in the result"
   ]
  },
  {
   "cell_type": "code",
   "execution_count": 2,
   "id": "fe460635",
   "metadata": {},
   "outputs": [
    {
     "name": "stdout",
     "output_type": "stream",
     "text": [
      "{'name': 'Ben', 'spouse': 'single', 'children': 'none'}\n"
     ]
    }
   ],
   "source": [
    "#Dictionaries are used to store data in key value pairs and they do not allow duplicates\n",
    "mydct = {\"name\": \"Ben\",\n",
    "        \"spouse\": \"single\",\n",
    "        \"children\":\"none\",\n",
    "        \"name\": \"Ben\"\n",
    "        }\n",
    "print(mydct)#duplicates are ingnored in the result"
   ]
  },
  {
   "cell_type": "code",
   "execution_count": 3,
   "id": "784f7641",
   "metadata": {},
   "outputs": [
    {
     "name": "stdout",
     "output_type": "stream",
     "text": [
      "['children', 'elderly', 'women', 'men']\n"
     ]
    }
   ],
   "source": [
    "#Provide the similarities between lists and dictionaries\n",
    "#Items in lists and dictionaries can be changed \n",
    "#Items in both lists and dictionaries are ordered.\n",
    "mylist[1] = \"elderly\"\n",
    "print(mylist)"
   ]
  },
  {
   "cell_type": "code",
   "execution_count": 5,
   "id": "0bdc8f06",
   "metadata": {},
   "outputs": [
    {
     "name": "stdout",
     "output_type": "stream",
     "text": [
      "{'name': 'Ben', 'spouse': 'not applicable', 'children': 'none'}\n"
     ]
    }
   ],
   "source": [
    "mydct[\"spouse\"] = \"not applicable\"\n",
    "print(mydct)"
   ]
  },
  {
   "cell_type": "code",
   "execution_count": null,
   "id": "97cea555",
   "metadata": {},
   "outputs": [],
   "source": [
    "#Give the differences between lists and dictionaries\n",
    "#lists use square brackets[] well as dictionaries use braces{}\n",
    "#lists store data in a single variable well as dictionaries store data in key value pairs.\n",
    "\n"
   ]
  }
 ],
 "metadata": {
  "kernelspec": {
   "display_name": "Python 3 (ipykernel)",
   "language": "python",
   "name": "python3"
  },
  "language_info": {
   "codemirror_mode": {
    "name": "ipython",
    "version": 3
   },
   "file_extension": ".py",
   "mimetype": "text/x-python",
   "name": "python",
   "nbconvert_exporter": "python",
   "pygments_lexer": "ipython3",
   "version": "3.9.12"
  }
 },
 "nbformat": 4,
 "nbformat_minor": 5
}
