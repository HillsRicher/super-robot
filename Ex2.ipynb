{
 "cells": [
  {
   "cell_type": "code",
   "execution_count": 2,
   "id": "5f46d9cb",
   "metadata": {},
   "outputs": [
    {
     "name": "stdout",
     "output_type": "stream",
     "text": [
      "ST MARY'S KITENDE\n"
     ]
    }
   ],
   "source": [
    "#Print the name of your school in anaconnda\n",
    "my_sch = \"st mary's kitende\"\n",
    "my_sch = my_sch.upper()\n",
    "print(my_sch)"
   ]
  },
  {
   "cell_type": "code",
   "execution_count": 3,
   "id": "2716ffc7",
   "metadata": {},
   "outputs": [
    {
     "name": "stdout",
     "output_type": "stream",
     "text": [
      "Tape\n",
      "Job\n",
      "It\n"
     ]
    }
   ],
   "source": [
    "#Print three words let each word be on its own line\n",
    "print(\"Tape\")\n",
    "print(\"Job\")\n",
    "print(\"It\")"
   ]
  },
  {
   "cell_type": "code",
   "execution_count": 8,
   "id": "9e26eac8",
   "metadata": {},
   "outputs": [
    {
     "name": "stdout",
     "output_type": "stream",
     "text": [
      "8\n"
     ]
    }
   ],
   "source": [
    "#Use len to give me the size of the word ‘anaconda’\n",
    "wrd = 'anaconda'\n",
    "ans = len(wrd)\n",
    "print(ans)\n",
    " \n"
   ]
  },
  {
   "cell_type": "code",
   "execution_count": null,
   "id": "89002f83",
   "metadata": {},
   "outputs": [],
   "source": []
  },
  {
   "cell_type": "code",
   "execution_count": null,
   "id": "7db99aec",
   "metadata": {},
   "outputs": [],
   "source": []
  }
 ],
 "metadata": {
  "kernelspec": {
   "display_name": "Python 3 (ipykernel)",
   "language": "python",
   "name": "python3"
  },
  "language_info": {
   "codemirror_mode": {
    "name": "ipython",
    "version": 3
   },
   "file_extension": ".py",
   "mimetype": "text/x-python",
   "name": "python",
   "nbconvert_exporter": "python",
   "pygments_lexer": "ipython3",
   "version": "3.9.12"
  }
 },
 "nbformat": 4,
 "nbformat_minor": 5
}
