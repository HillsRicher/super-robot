{
 "cells": [
  {
   "cell_type": "code",
   "execution_count": 35,
   "id": "4d206976",
   "metadata": {},
   "outputs": [
    {
     "name": "stdout",
     "output_type": "stream",
     "text": [
      "My name is sam\n",
      "My name is Hellen\n"
     ]
    }
   ],
   "source": [
    "class Dog():\n",
    "    # class attribute\n",
    "    attr = \"mammal\"\n",
    "    \n",
    "    # Instance attribute\n",
    "    def __init__(self,name):\n",
    "        self.name = name\n",
    "        \n",
    "    def speak(self):\n",
    "        print(\"My name is {}\".format(self.name))\n",
    "        \n",
    " # Object instantiation       \n",
    "sam = Dog(\"sam\")\n",
    "Hellen = Dog(\"Hellen\")\n",
    "\n",
    "# Accessing class methods\n",
    "sam.speak()\n",
    "Hellen.speak()\n",
    "              \n",
    "    "
   ]
  },
  {
   "cell_type": "code",
   "execution_count": null,
   "id": "0d9a1452",
   "metadata": {},
   "outputs": [],
   "source": []
  }
 ],
 "metadata": {
  "kernelspec": {
   "display_name": "Python 3 (ipykernel)",
   "language": "python",
   "name": "python3"
  },
  "language_info": {
   "codemirror_mode": {
    "name": "ipython",
    "version": 3
   },
   "file_extension": ".py",
   "mimetype": "text/x-python",
   "name": "python",
   "nbconvert_exporter": "python",
   "pygments_lexer": "ipython3",
   "version": "3.9.12"
  }
 },
 "nbformat": 4,
 "nbformat_minor": 5
}
