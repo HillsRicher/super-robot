{
 "cells": [
  {
   "cell_type": "code",
   "execution_count": 20,
   "id": "26e7b235",
   "metadata": {},
   "outputs": [
    {
     "name": "stdout",
     "output_type": "stream",
     "text": [
      "['lower', 'upper', 'capitalize', 'startswith', 'replace', 'index', 'find', 'count', 'islower', 'endswith']\n"
     ]
    }
   ],
   "source": [
    "#List 10 string methods\n",
    "str_methods = [\"lower\", \"upper\", \"capitalize\", \"startswith\", \"replace\", \"index\", \"find\", \"count\", \"islower\", \"endswith\"]\n",
    "print(str_methods)"
   ]
  },
  {
   "cell_type": "code",
   "execution_count": 4,
   "id": "9141b15a",
   "metadata": {},
   "outputs": [
    {
     "name": "stdout",
     "output_type": "stream",
     "text": [
      "hillary\n"
     ]
    }
   ],
   "source": [
    "#lower - converts a string into lower case\n",
    "name = \"hillary\"\n",
    "result = name.lower()\n",
    "print(result)"
   ]
  },
  {
   "cell_type": "code",
   "execution_count": 5,
   "id": "857d3ef7",
   "metadata": {},
   "outputs": [
    {
     "name": "stdout",
     "output_type": "stream",
     "text": [
      "HILLARY\n"
     ]
    }
   ],
   "source": [
    "#upper - converts a string into upper case\n",
    "name = \"hillary\"\n",
    "result = name.upper()\n",
    "print(result)\n"
   ]
  },
  {
   "cell_type": "code",
   "execution_count": 6,
   "id": "c0f02183",
   "metadata": {},
   "outputs": [
    {
     "name": "stdout",
     "output_type": "stream",
     "text": [
      "Joan\n"
     ]
    }
   ],
   "source": [
    "#capitalize - converts the first character to uppercase\n",
    "name = \"joan\"\n",
    "result = name.capitalize()\n",
    "print(result)"
   ]
  },
  {
   "cell_type": "code",
   "execution_count": 8,
   "id": "a6770947",
   "metadata": {},
   "outputs": [
    {
     "name": "stdout",
     "output_type": "stream",
     "text": [
      "False\n"
     ]
    }
   ],
   "source": [
    "#startswith - prints true if the string starts with a specific character and false otherwise\n",
    "g = \"hellen will take care of it\"\n",
    "result = g.startswith(\"b\")\n",
    "print(result)"
   ]
  },
  {
   "cell_type": "code",
   "execution_count": 11,
   "id": "9a3afe7c",
   "metadata": {},
   "outputs": [
    {
     "name": "stdout",
     "output_type": "stream",
     "text": [
      "what have you done!\n"
     ]
    }
   ],
   "source": [
    "#replace - prints a string where a specified value is replaced with another value\n",
    "n = \"what have you done.\"\n",
    "result = n.replace(\".\", \"!\")\n",
    "print(result)"
   ]
  },
  {
   "cell_type": "code",
   "execution_count": 12,
   "id": "1bb53676",
   "metadata": {},
   "outputs": [
    {
     "name": "stdout",
     "output_type": "stream",
     "text": [
      "8\n"
     ]
    }
   ],
   "source": [
    "#index - searches for a particular value in a string and returns the position where it's found\n",
    "n = \"what! you are done.\"\n",
    "result = n.index(\"u\")\n",
    "print(result)"
   ]
  },
  {
   "cell_type": "code",
   "execution_count": 14,
   "id": "9d05408d",
   "metadata": {},
   "outputs": [
    {
     "name": "stdout",
     "output_type": "stream",
     "text": [
      "6\n"
     ]
    }
   ],
   "source": [
    "#find - Searches the string for a specified value and returns the position of where it was found\n",
    "txt = \"where are your manners?\"\n",
    "print(txt.find(\"are\"))"
   ]
  },
  {
   "cell_type": "code",
   "execution_count": 15,
   "id": "9b930cdd",
   "metadata": {},
   "outputs": [
    {
     "name": "stdout",
     "output_type": "stream",
     "text": [
      "8\n"
     ]
    }
   ],
   "source": [
    "#count - returns the number of appearances of a substring in a string\n",
    "words = \"we were all together when it happened\"\n",
    "print(words.count(\"e\"))"
   ]
  },
  {
   "cell_type": "code",
   "execution_count": 16,
   "id": "9876f8ce",
   "metadata": {},
   "outputs": [
    {
     "name": "stdout",
     "output_type": "stream",
     "text": [
      "True\n"
     ]
    }
   ],
   "source": [
    "#islower - returns true if all alphabets in a string are lowercase\n",
    "g = \"hellen will take care of it\"\n",
    "result = g.islower()\n",
    "print(result)"
   ]
  },
  {
   "cell_type": "code",
   "execution_count": 18,
   "id": "16d58b05",
   "metadata": {},
   "outputs": [
    {
     "name": "stdout",
     "output_type": "stream",
     "text": [
      "True\n"
     ]
    }
   ],
   "source": [
    "#endswith - prints true if the string starts with a specific character and false otherwise\n",
    "words = \"master the art of being alone\"\n",
    "ans = words.endswith(\"alone\")\n",
    "print(ans)"
   ]
  },
  {
   "cell_type": "code",
   "execution_count": null,
   "id": "39997ef8",
   "metadata": {},
   "outputs": [],
   "source": []
  }
 ],
 "metadata": {
  "kernelspec": {
   "display_name": "Python 3 (ipykernel)",
   "language": "python",
   "name": "python3"
  },
  "language_info": {
   "codemirror_mode": {
    "name": "ipython",
    "version": 3
   },
   "file_extension": ".py",
   "mimetype": "text/x-python",
   "name": "python",
   "nbconvert_exporter": "python",
   "pygments_lexer": "ipython3",
   "version": "3.9.12"
  }
 },
 "nbformat": 4,
 "nbformat_minor": 5
}
